{
  "nbformat": 4,
  "nbformat_minor": 0,
  "metadata": {
    "colab": {
      "private_outputs": true,
      "provenance": [],
      "include_colab_link": true
    },
    "kernelspec": {
      "name": "python3",
      "display_name": "Python 3"
    },
    "language_info": {
      "name": "python"
    }
  },
  "cells": [
    {
      "cell_type": "markdown",
      "metadata": {
        "id": "view-in-github",
        "colab_type": "text"
      },
      "source": [
        "<a href=\"https://colab.research.google.com/github/josemario02/Aprendiendo-python/blob/main/carta.ipynb\" target=\"_parent\"><img src=\"https://colab.research.google.com/assets/colab-badge.svg\" alt=\"Open In Colab\"/></a>"
      ]
    },
    {
      "cell_type": "code",
      "source": [
        "import random\n",
        "import time\n",
        "from IPython.display import clear_output\n",
        "\n",
        "rows = 2\n",
        "columns = 3\n",
        "cards_back = [[\"|_|\" for _ in range(columns)] for _ in range(rows)]\n",
        "options = ['J', 'J', 'Q', 'Q', 'K', 'K']\n",
        "game_cards = [[\"\" for _ in range(columns)] for _ in range(rows)]\n",
        "\n",
        "for i in range(len(game_cards)):\n",
        "    for j in range(len(game_cards[i])):\n",
        "        random_card = random.choice(options)\n",
        "        game_cards[i][j] = '|' + random_card + '|'\n",
        "        options.remove(random_card)\n",
        "\n",
        "def show_cards(cards):\n",
        "    for row in cards:\n",
        "        print(\" \".join(row))\n",
        "        print()\n",
        "\n",
        "show_cards(game_cards)\n",
        "time.sleep(t)\n",
        "clear_output(wait=True)\n",
        "while '|' + '_' + '|' in str(cards_back):\n",
        "    show_cards(cards_back)\n",
        "    time.sleep(t)\n",
        "    clear_output(wait=True)\n",
        "\n",
        "    row_1 = int(input(\"Indique la fila para la primera carta: \"))\n",
        "    column_1 = int(input(\"Indique la columna para la primera carta: \"))\n",
        "    cards_back[row_1][column_1] = game_cards[row_1][column_1]\n",
        "    show_cards(cards_back)\n",
        "    time.sleep(t)\n",
        "    clear_output(wait=True)\n",
        "\n",
        "    row_2 = int(input(\"Indique la fila para la segunda carta: \"))\n",
        "    column_2 = int(input(\"Indique la columna para la segunda carta: \"))\n",
        "    cards_back[row_2][column_2] = game_cards[row_2][column_2]\n",
        "    show_cards(cards_back)\n",
        "    time.sleep(t)\n",
        "\n",
        "    if game_cards[row_1][column_1] == game_cards[row_2][column_2]:\n",
        "        print(\"¡Encontraste un par!\")\n",
        "        cards_back[row_1][column_1] = \"   \"\n",
        "        cards_back[row_2][column_2] = \"   \"\n",
        "    else:\n",
        "        print(\"Intenta de nuevo.\")\n",
        "        cards_back[row_1][column_1] = \"|_|\"\n",
        "        cards_back[row_2][column_2] = \"|_|\"\n",
        "\n",
        "    time.sleep(t)\n",
        "    clear_output(wait=True)\n",
        "\n",
        "print(\"¡Felicidades! Has encontrado todos los pares.\")"
      ],
      "metadata": {
        "id": "MDo2DmUJ_tRy"
      },
      "execution_count": null,
      "outputs": []
    }
  ]
}