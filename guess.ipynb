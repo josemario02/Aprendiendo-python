{
  "nbformat": 4,
  "nbformat_minor": 0,
  "metadata": {
    "colab": {
      "provenance": [],
      "authorship_tag": "ABX9TyOu0nOZOWuZnxrF7MOmc26+",
      "include_colab_link": true
    },
    "kernelspec": {
      "name": "python3",
      "display_name": "Python 3"
    },
    "language_info": {
      "name": "python"
    }
  },
  "cells": [
    {
      "cell_type": "markdown",
      "metadata": {
        "id": "view-in-github",
        "colab_type": "text"
      },
      "source": [
        "<a href=\"https://colab.research.google.com/github/josemario02/Aprendiendo-python/blob/main/guess.ipynb\" target=\"_parent\"><img src=\"https://colab.research.google.com/assets/colab-badge.svg\" alt=\"Open In Colab\"/></a>"
      ]
    },
    {
      "cell_type": "code",
      "source": [
        "import random\n",
        "import time\n",
        "from IPython.display import clear_output\n",
        "\n",
        "def generate_grid(rows, cols):\n",
        "    characters = [\"A\",\"B\",\"C\",\"D\",\"E\",\"F\",\"G\",\"1\",\"2\",\"3\",\"4\"]\n",
        "    values = [characters[i] for i in range(rows * cols // 2)] * 2\n",
        "    random.shuffle(values)\n",
        "\n",
        "    grid = []\n",
        "    for _ in range(rows):\n",
        "        row = []\n",
        "        for _ in range(cols):\n",
        "            value = random.choice(values)\n",
        "            row.append(value)\n",
        "            values.remove(value)\n",
        "        grid.append(row)\n",
        "    return grid\n",
        "\n",
        "def display_grid(grid):\n",
        "    for row in grid:\n",
        "        print(\" \".join(str(val) for val in row))\n",
        "\n",
        "def hide_value(grid, value):\n",
        "    hidden = False\n",
        "    for row in range(len(grid)):\n",
        "        for col in range(len(grid[0])):\n",
        "            if grid[row][col] == value and not hidden:\n",
        "                grid[row][col] = \"*\"\n",
        "                hidden = True\n",
        "\n",
        "def get_grid_size():\n",
        "    rows = int(input(\"Ingrese el número de filas: \"))\n",
        "    cols = int(input(\"Ingrese el número de columnas: \"))\n",
        "    return rows, cols\n",
        "\n",
        "def play_game():\n",
        "    rows, cols = get_grid_size()\n",
        "    grid = generate_grid(rows, cols)\n",
        "\n",
        "    print(\"Memoria de Valores\\n\")\n",
        "    display_grid(grid)\n",
        "    time.sleep(3)\n",
        "    clear_output(wait=True)\n",
        "\n",
        "    hidden_value = random.choice(sum(grid, []))\n",
        "    hide_value(grid, hidden_value)\n",
        "\n",
        "    print(\"\\nEncuentra el valor oculto:\\n\")\n",
        "    display_grid(grid)\n",
        "    guess = input(\"\\nIngresa tu respuesta: \")\n",
        "    if guess == hidden_value:\n",
        "        print(\"¡Correcto! Has encontrado el valor oculto.\")\n",
        "    else:\n",
        "        print(f\"Incorrecto. El valor oculto era {hidden_value}.\")\n",
        "\n",
        "def main():\n",
        "    while True:\n",
        "        play_game()\n",
        "        play_again = input(\"¿Quieres jugar de nuevo? (s/n): \")\n",
        "        if play_again.lower() != \"s\":\n",
        "            break\n",
        "\n",
        "if __name__ == \"__main__\":\n",
        "    main()\n"
      ],
      "metadata": {
        "id": "BF7zswMXAOyr"
      },
      "execution_count": null,
      "outputs": []
    }
  ]
}