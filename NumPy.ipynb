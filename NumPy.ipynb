{
  "nbformat": 4,
  "nbformat_minor": 0,
  "metadata": {
    "colab": {
      "provenance": [],
      "authorship_tag": "ABX9TyMjrx74NL4smxUEZuvoB3NY",
      "include_colab_link": true
    },
    "kernelspec": {
      "name": "python3",
      "display_name": "Python 3"
    },
    "language_info": {
      "name": "python"
    }
  },
  "cells": [
    {
      "cell_type": "markdown",
      "metadata": {
        "id": "view-in-github",
        "colab_type": "text"
      },
      "source": [
        "<a href=\"https://colab.research.google.com/github/josemario02/Aprendiendo-python/blob/main/NumPy.ipynb\" target=\"_parent\"><img src=\"https://colab.research.google.com/assets/colab-badge.svg\" alt=\"Open In Colab\"/></a>"
      ]
    },
    {
      "cell_type": "code",
      "source": [
        "import numpy as np\n",
        "\n",
        "A = np.array([[2,1],\n",
        "             [1,3]])\n",
        "\n",
        "print(A)\n",
        "print(4*A)\n"
      ],
      "metadata": {
        "id": "gWjArMVWeULH"
      },
      "execution_count": null,
      "outputs": []
    },
    {
      "cell_type": "code",
      "source": [
        "import numpy as np\n",
        "import matplotlib.pyplot as plt\n",
        "\n",
        "heart_img = np.array([[255, 0, 0, 255, 0, 0, 255],\n",
        "                      [0, 255/2, 255/2, 0, 255/2, 255/2, 0],\n",
        "                      [0, 255/2, 255/2, 255/2, 255/2, 255/2, 0],\n",
        "                      [0, 255/2, 255/2, 255/2, 255/2, 255/2, 0],\n",
        "                      [255, 0, 255/2, 255/2, 255/2, 0, 255],\n",
        "                      [255, 255, 0, 255/2, 0, 255, 255],\n",
        "                      [255, 255, 255, 0, 255, 255, 255]])\n",
        "\n",
        "# Función auxiliar para mostrar imágenes\n",
        "def show_image(image, name_identifier):\n",
        "    plt.imshow(image, cmap=\"gray\")\n",
        "    plt.title(name_identifier)\n",
        "    plt.show()\n",
        "\n",
        "# Paso 1: Mostrar la Imagen Original del Corazón\n",
        "show_image(heart_img, \"Imagen del Corazón\")\n",
        "\n",
        "\n",
        "inverted_heart_img = 255 - heart_img\n",
        "show_image(inverted_heart_img, \"Imagen del Corazón Invertida\")\n",
        "\n",
        "rotated_heart_img = np.transpose(heart_img)\n",
        "show_image(rotated_heart_img, \"Imagen del Coraz\n",
        "random_img = np.random.randint(0, 255, (7, 7))\n",
        "show_image(random_img, \"Imagen Aleatoria\")\n",
        "\n",
        "x = np.linalg.solve(random_img, heart_img)\n",
        "show_image(x, \"x\")\n",
        "\n",
        "\n",
        "solved_heart_img = np.dot(random_img, x)\n",
        "show_image(solved_heart_img, \"Imagen del Corazón Resuelta\")\n"
      ],
      "metadata": {
        "id": "7WpK9gunsZhz"
      },
      "execution_count": null,
      "outputs": []
    }
  ]
}